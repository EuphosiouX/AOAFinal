{
 "cells": [
  {
   "cell_type": "code",
   "execution_count": 1,
   "metadata": {},
   "outputs": [],
   "source": [
    "import numpy as np\n",
    "import matplotlib.pyplot as plt\n",
    "from matplotlib import animation\n",
    "from matplotlib.animation import FuncAnimation, PillowWriter\n",
    "import seaborn as sns\n",
    "from IPython.display import HTML\n",
    "import random\n",
    "random.seed(a = 5)\n",
    "plt.style.use(\"seaborn\")"
   ]
  },
  {
   "cell_type": "code",
   "execution_count": 2,
   "metadata": {},
   "outputs": [],
   "source": [
    "# Algo 1\n",
    "\n",
    "#x = [0, 1, 2, 3, 4, 5, 6, 7, 8, 9, 10, 11]\n",
    "#h = [0, 1, 0, 2, 1, 0, 1, 3, 2, 1, 2, 1]\n",
    "\n",
    "class TrappingRainWater:   \n",
    "    def getWaterTrapped(self, h):\n",
    "        x_height = []\n",
    "        y_height = []\n",
    "        size = len(h)\n",
    "        for i in range(0, size):\n",
    "            lMax = rMax = 0\n",
    "            for j in range(i, -1, -1):\n",
    "                lMax = max(lMax, h[j])\n",
    "            for j in range(i, size):\n",
    "                rMax = max(rMax, h[j])\n",
    "            if ((min(lMax, rMax) - h[i])==0):\n",
    "                continue\n",
    "            else: \n",
    "                x_height.append(i)\n",
    "                y_height.append(min(lMax, rMax))\n",
    "        return x_height, y_height\n",
    "            \n",
    "    # Using algo 1\n",
    "    def getMaxWaterTrapped(self, h):\n",
    "        size = len(h)\n",
    "        ans = 0\n",
    "        lMax = rMax = 0\n",
    "        for i in range(size): \n",
    "            \n",
    "            lMax = rMax = h[i];\n",
    "            \n",
    "            for j in range(i, -1, -1):\n",
    "                lMax = max(lMax, h[j])\n",
    "            for j in range(i, size):\n",
    "                rMax = max(rMax, h[j])\n",
    "            #print(f\"{lMax} {rMax}\", end=\" \")\n",
    "            ans += min(lMax, rMax) - h[i]\n",
    "            #print(ans, \"\\n\")\n",
    "        return ans\n",
    "    \n",
    "class Graph:\n",
    "    def __init__(self, h):\n",
    "        self.h = h\n",
    "        \n",
    "    def makeGraph(self):\n",
    "        x = []\n",
    "        for i in range(0, len(self.h)):\n",
    "            x.append(i)\n",
    "        \n",
    "        fig = plt.figure(figsize = (10, 5))\n",
    "        \n",
    "        rainWater = TrappingRainWater()\n",
    "        x_height, y_height = rainWater.getWaterTrapped(self.h)\n",
    "        \n",
    "        for i in range(len(x_height)):\n",
    "            plt.bar(x_height[i], y_height[i], color='blue', width=1)\n",
    "        plt.bar(x, self.h, color ='black', width=1)\n",
    "        \n",
    "        plt.xlim([0, len(self.h)])\n",
    "        plt.ylim([0, max(self.h)+1])\n",
    "        plt.xticks(np.arange(0, len(self.h), 1))\n",
    "        plt.yticks(np.arange(0, max(self.h)+1, 1))\n",
    "\n",
    "        \n",
    "        plt.show()\n",
    "        \n",
    "        \n",
    "def getUserInput():\n",
    "    num = int(input(\"Input the number of height you want to input: \"))\n",
    "    for i in range(num):\n",
    "        heightInput = list(map(int, input(\"Enter the height: \").split(',')))\n",
    "        if len(heightInput) > num or len(heightInput) < num:\n",
    "            print('Error. Please input the correct number of height equal to the numbers you typed in')\n",
    "            break\n",
    "        else:\n",
    "            return heightInput\n",
    "\n",
    "             "
   ]
  },
  {
   "cell_type": "code",
   "execution_count": 3,
   "metadata": {},
   "outputs": [],
   "source": [
    "def asc(h, size):\n",
    "    for i in range(size):\n",
    "        h.append(i+1)\n",
    "        \n",
    "    return h\n",
    "\n",
    "def desc(h, size):\n",
    "    for i in range(size-1, -1, -1):\n",
    "        h.append(i+1)\n",
    "        \n",
    "    return h\n",
    "\n",
    "def ascDesc(h, size):   \n",
    "    size = int(size/2)\n",
    "    \n",
    "    for i in range(1, size):\n",
    "        h.append(i)  \n",
    "    \n",
    "    for i in range(size-1, -1, -1):\n",
    "        h.append(i+1)\n",
    "    \n",
    "    return h\n",
    "\n",
    "def descAsc(h, size):\n",
    "    size = int(size/2)\n",
    "    \n",
    "    for i in range(size-1, -1, -1):\n",
    "        h.append(i+1)\n",
    "        \n",
    "    for i in range(size+1):\n",
    "        h.append(i)\n",
    "        \n",
    "    return h\n",
    "\n",
    "def rand(h, size):\n",
    "    for i in range(size):\n",
    "        h.append(random.randint(0, size))\n",
    "        \n",
    "    return h"
   ]
  },
  {
   "cell_type": "code",
   "execution_count": 4,
   "metadata": {},
   "outputs": [
    {
     "name": "stdout",
     "output_type": "stream",
     "text": [
      "The max number of water that can be trapped in desc small is 0 units\n",
      "The max number of water that can be trapped in desc med is 0 units\n",
      "The max number of water that can be trapped in desc big is 0 units\n",
      "\n",
      "The max number of water that can be trapped in desc asc small is 2500 units\n",
      "The max number of water that can be trapped in desc asc med is 10000 units\n",
      "The max number of water that can be trapped in desc asc big is 22500 units\n",
      "\n",
      "The max number of water that can be trapped in asc desc small is 0 units\n",
      "The max number of water that can be trapped in asc desc med is 0 units\n",
      "The max number of water that can be trapped in asc desc big is 0 units\n"
     ]
    }
   ],
   "source": [
    "descListSmall = []\n",
    "descListSmall = desc(descListSmall, 100)\n",
    "rainWater1 = TrappingRainWater().getMaxWaterTrapped(descListSmall)\n",
    "print(f'The max number of water that can be trapped in desc small is {rainWater1} units')\n",
    "\n",
    "descListMed = []\n",
    "descListMed = desc(descListMed, 200)\n",
    "rainWater1 = TrappingRainWater().getMaxWaterTrapped(descListMed)\n",
    "print(f'The max number of water that can be trapped in desc med is {rainWater1} units')\n",
    "\n",
    "descListMax = []\n",
    "descListMax = desc(descListMax, 300)\n",
    "rainWater1 = TrappingRainWater().getMaxWaterTrapped(descListMax)\n",
    "print(f'The max number of water that can be trapped in desc big is {rainWater1} units')\n",
    "\n",
    "print(\"\")\n",
    "\n",
    "daListSmall = []\n",
    "daListSmall = descAsc(daListSmall, 100)\n",
    "rainWater1 = TrappingRainWater().getMaxWaterTrapped(daListSmall)\n",
    "print(f'The max number of water that can be trapped in desc asc small is {rainWater1} units')\n",
    "\n",
    "daListMed = []\n",
    "daListMed = descAsc(daListMed, 200)\n",
    "rainWater1 = TrappingRainWater().getMaxWaterTrapped(daListMed)\n",
    "print(f'The max number of water that can be trapped in desc asc med is {rainWater1} units')\n",
    "\n",
    "daListMax = []\n",
    "daListMax = descAsc(daListMax, 300)\n",
    "rainWater1 = TrappingRainWater().getMaxWaterTrapped(daListMax)\n",
    "print(f'The max number of water that can be trapped in desc asc big is {rainWater1} units')\n",
    "\n",
    "print(\"\")\n",
    "\n",
    "\n",
    "adListSmall = []\n",
    "adListSmall = ascDesc(adListSmall, 100)\n",
    "rainWater1 = TrappingRainWater().getMaxWaterTrapped(adListSmall)\n",
    "print(f'The max number of water that can be trapped in asc desc small is {rainWater1} units')\n",
    "\n",
    "adListMed = []\n",
    "adListMed = ascDesc(adListMed, 200)\n",
    "rainWater1 = TrappingRainWater().getMaxWaterTrapped(adListMed)\n",
    "print(f'The max number of water that can be trapped in asc desc med is {rainWater1} units')\n",
    "\n",
    "adListMax = []\n",
    "adListMax = ascDesc(adListMax, 300)\n",
    "rainWater1 = TrappingRainWater().getMaxWaterTrapped(adListMax)\n",
    "print(f'The max number of water that can be trapped in asc desc big is {rainWater1} units')"
   ]
  },
  {
   "cell_type": "code",
   "execution_count": 5,
   "metadata": {},
   "outputs": [
    {
     "data": {
      "text/plain": [
       "<Figure size 720x360 with 0 Axes>"
      ]
     },
     "metadata": {},
     "output_type": "display_data"
    },
    {
     "data": {
      "image/png": "[encoded data removed]",
      "text/plain": [
       "<Figure size 720x360 with 1 Axes>"
      ]
     },
     "metadata": {},
     "output_type": "display_data"
    },
    {
     "name": "stdout",
     "output_type": "stream",
     "text": [
      "The max number of water that can be trapped is 2500 units\n"
     ]
    }
   ],
   "source": [
    "if __name__ == \"__main__\":\n",
    "    fig = plt.figure(figsize = (10, 5))\n",
    "    \n",
    "    userInput = daListSmall\n",
    "    \n",
    "    rainWater1 = TrappingRainWater().getMaxWaterTrapped(userInput)\n",
    "    \n",
    "    graph = Graph(userInput).makeGraph()\n",
    "\n",
    "    print(f'The max number of water that can be trapped is {rainWater1} units') "
   ]
  },
  {
   "cell_type": "code",
   "execution_count": 6,
   "metadata": {},
   "outputs": [
    {
     "name": "stdout",
     "output_type": "stream",
     "text": [
      "The max number of water that can be trapped is 6 units\n"
     ]
    }
   ],
   "source": [
    "# Algo 2\n",
    "\n",
    "h2 = np.array([0, 1, 0, 2, 1, 0, 1, 3, 2, 1, 2, 1])\n",
    "\n",
    "size = len(h2)\n",
    "ans = leftMax = rightMax = 0\n",
    "lMax = []\n",
    "rMax = []\n",
    "\n",
    "for i in range(0, size):\n",
    "    leftMax = max(leftMax, h2[i])\n",
    "    lMax.append(leftMax)\n",
    "for i in range(size-1, -1, -1):\n",
    "    rightMax = max(rightMax, h2[i])\n",
    "    rMax.append(rightMax)\n",
    "for i in range(0, size):\n",
    "    ans += min(lMax[i], rMax[size-i-1]) - h2[i]\n",
    "\n",
    "print(f'The max number of water that can be trapped is {ans} units')"
   ]
  },
  {
   "cell_type": "code",
   "execution_count": null,
   "metadata": {},
   "outputs": [],
   "source": []
  },
  {
   "cell_type": "code",
   "execution_count": null,
   "metadata": {},
   "outputs": [],
   "source": []
  }
 ],
 "metadata": {
  "kernelspec": {
   "display_name": "Python 3",
   "language": "python",
   "name": "python3"
  },
  "language_info": {
   "codemirror_mode": {
    "name": "ipython",
    "version": 3
   },
   "file_extension": ".py",
   "mimetype": "text/x-python",
   "name": "python",
   "nbconvert_exporter": "python",
   "pygments_lexer": "ipython3",
   "version": "3.8.3"
  }
 },
 "nbformat": 4,
 "nbformat_minor": 4
}
